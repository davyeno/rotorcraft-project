{
 "cells": [
  {
   "cell_type": "code",
   "execution_count": 1,
   "id": "d8708b27",
   "metadata": {},
   "outputs": [
    {
     "name": "stdout",
     "output_type": "stream",
     "text": [
      "D:\\School\\Graduate 2022 Summer\\Data\\OneDrive_1_7-3-2022\n"
     ]
    }
   ],
   "source": [
    "%cd \"D:\\School\\Graduate 2022 Summer\\Data\\OneDrive_1_7-3-2022\""
   ]
  },
  {
   "cell_type": "code",
   "execution_count": 2,
   "id": "bbee1579",
   "metadata": {},
   "outputs": [
    {
     "data": {
      "text/plain": [
       "'D:\\\\School\\\\Graduate 2022 Summer\\\\Data\\\\OneDrive_1_7-3-2022'"
      ]
     },
     "execution_count": 2,
     "metadata": {},
     "output_type": "execute_result"
    }
   ],
   "source": [
    "pwd()"
   ]
  },
  {
   "cell_type": "code",
   "execution_count": 3,
   "id": "50445aca",
   "metadata": {},
   "outputs": [],
   "source": [
    "import pandas as pd\n",
    "import numpy as np\n",
    "import matplotlib.pyplot as plt\n",
    "\n",
    "from sklearn.model_selection import GridSearchCV\n",
    "from sklearn.svm import SVC"
   ]
  },
  {
   "cell_type": "code",
   "execution_count": 4,
   "id": "0fe988fb",
   "metadata": {},
   "outputs": [],
   "source": [
    "first_file = pd.read_csv('SimData_2022.06.30_10.27.04.csv.roar.csv',\n",
    "                parse_dates = {'datetime': ['date', 'time']},\n",
    "                low_memory=False)\n",
    "\n",
    "second_file = pd.read_csv('SimData_2022.06.30_13.01.46.csv.roar.csv',\n",
    "                parse_dates = {'datetime': ['date', 'time']},\n",
    "                low_memory=False)\n",
    "\n",
    "third_file = pd.read_csv('SimData_2022.06.30_13.05.32.csv.roar.csv',\n",
    "                parse_dates = {'datetime': ['date', 'time']},\n",
    "                low_memory=False)\n",
    "\n",
    "fourth_file = pd.read_csv('SimData_2022.06.30_13.42.04.csv.roar.csv',\n",
    "                parse_dates = {'datetime': ['date', 'time']},\n",
    "                low_memory=False)\n",
    "\n",
    "df = pd.concat([first_file, second_file, third_file, fourth_file])"
   ]
  },
  {
   "cell_type": "code",
   "execution_count": 5,
   "id": "a989436a",
   "metadata": {},
   "outputs": [
    {
     "data": {
      "text/html": [
       "<div>\n",
       "<style scoped>\n",
       "    .dataframe tbody tr th:only-of-type {\n",
       "        vertical-align: middle;\n",
       "    }\n",
       "\n",
       "    .dataframe tbody tr th {\n",
       "        vertical-align: top;\n",
       "    }\n",
       "\n",
       "    .dataframe thead th {\n",
       "        text-align: right;\n",
       "    }\n",
       "</style>\n",
       "<table border=\"1\" class=\"dataframe\">\n",
       "  <thead>\n",
       "    <tr style=\"text-align: right;\">\n",
       "      <th></th>\n",
       "      <th>datetime</th>\n",
       "      <th>_id</th>\n",
       "      <th>latitude</th>\n",
       "      <th>longitude</th>\n",
       "      <th>gpsAltitude</th>\n",
       "      <th>absoluteAltitude</th>\n",
       "      <th>magneticHeading</th>\n",
       "      <th>trueHeading</th>\n",
       "      <th>pitch</th>\n",
       "      <th>roll</th>\n",
       "      <th>...</th>\n",
       "      <th>hasMainRotorLowRpmWarning</th>\n",
       "      <th>hasMainRotorHighRpmWarning</th>\n",
       "      <th>hasTailRotorChipWarning</th>\n",
       "      <th>hasTransmissionChipCaution</th>\n",
       "      <th>hasTransmissionOilTemperatureWarning</th>\n",
       "      <th>hasTransmissionOilPressureWarning</th>\n",
       "      <th>timestamp</th>\n",
       "      <th>gpsDateTime</th>\n",
       "      <th>seconds</th>\n",
       "      <th>vil</th>\n",
       "    </tr>\n",
       "  </thead>\n",
       "  <tbody>\n",
       "    <tr>\n",
       "      <th>0</th>\n",
       "      <td>2022-06-30 14:27:53.216</td>\n",
       "      <td>::1656613673.216</td>\n",
       "      <td>20.904799</td>\n",
       "      <td>-156.424679</td>\n",
       "      <td>36.82</td>\n",
       "      <td>0.12</td>\n",
       "      <td>204.071</td>\n",
       "      <td>213.554</td>\n",
       "      <td>1.594</td>\n",
       "      <td>0.665</td>\n",
       "      <td>...</td>\n",
       "      <td>False</td>\n",
       "      <td>False</td>\n",
       "      <td>False</td>\n",
       "      <td>False</td>\n",
       "      <td>False</td>\n",
       "      <td>False</td>\n",
       "      <td>2022-06-30T14:27:53.216Z</td>\n",
       "      <td>2022-06-30T14:27:53.216Z</td>\n",
       "      <td>1.656614e+09</td>\n",
       "      <td>-2</td>\n",
       "    </tr>\n",
       "    <tr>\n",
       "      <th>1</th>\n",
       "      <td>2022-06-30 14:27:53.234</td>\n",
       "      <td>::1656613673.234</td>\n",
       "      <td>20.904799</td>\n",
       "      <td>-156.424679</td>\n",
       "      <td>36.82</td>\n",
       "      <td>0.12</td>\n",
       "      <td>204.064</td>\n",
       "      <td>213.547</td>\n",
       "      <td>1.593</td>\n",
       "      <td>0.683</td>\n",
       "      <td>...</td>\n",
       "      <td>False</td>\n",
       "      <td>False</td>\n",
       "      <td>False</td>\n",
       "      <td>False</td>\n",
       "      <td>False</td>\n",
       "      <td>False</td>\n",
       "      <td>2022-06-30T14:27:53.234Z</td>\n",
       "      <td>2022-06-30T14:27:53.234Z</td>\n",
       "      <td>1.656614e+09</td>\n",
       "      <td>-2</td>\n",
       "    </tr>\n",
       "    <tr>\n",
       "      <th>2</th>\n",
       "      <td>2022-06-30 14:27:53.251</td>\n",
       "      <td>::1656613673.251</td>\n",
       "      <td>20.904799</td>\n",
       "      <td>-156.424679</td>\n",
       "      <td>36.82</td>\n",
       "      <td>0.12</td>\n",
       "      <td>204.058</td>\n",
       "      <td>213.541</td>\n",
       "      <td>1.593</td>\n",
       "      <td>0.707</td>\n",
       "      <td>...</td>\n",
       "      <td>False</td>\n",
       "      <td>False</td>\n",
       "      <td>False</td>\n",
       "      <td>False</td>\n",
       "      <td>False</td>\n",
       "      <td>False</td>\n",
       "      <td>2022-06-30T14:27:53.251Z</td>\n",
       "      <td>2022-06-30T14:27:53.251Z</td>\n",
       "      <td>1.656614e+09</td>\n",
       "      <td>-2</td>\n",
       "    </tr>\n",
       "    <tr>\n",
       "      <th>3</th>\n",
       "      <td>2022-06-30 14:27:53.271</td>\n",
       "      <td>::1656613673.271</td>\n",
       "      <td>20.904799</td>\n",
       "      <td>-156.424679</td>\n",
       "      <td>36.81</td>\n",
       "      <td>0.12</td>\n",
       "      <td>204.051</td>\n",
       "      <td>213.534</td>\n",
       "      <td>1.594</td>\n",
       "      <td>0.735</td>\n",
       "      <td>...</td>\n",
       "      <td>False</td>\n",
       "      <td>False</td>\n",
       "      <td>False</td>\n",
       "      <td>False</td>\n",
       "      <td>False</td>\n",
       "      <td>False</td>\n",
       "      <td>2022-06-30T14:27:53.271Z</td>\n",
       "      <td>2022-06-30T14:27:53.271Z</td>\n",
       "      <td>1.656614e+09</td>\n",
       "      <td>-2</td>\n",
       "    </tr>\n",
       "    <tr>\n",
       "      <th>4</th>\n",
       "      <td>2022-06-30 14:27:53.293</td>\n",
       "      <td>::1656613673.293</td>\n",
       "      <td>20.904799</td>\n",
       "      <td>-156.424679</td>\n",
       "      <td>36.81</td>\n",
       "      <td>0.12</td>\n",
       "      <td>204.043</td>\n",
       "      <td>213.526</td>\n",
       "      <td>1.596</td>\n",
       "      <td>0.770</td>\n",
       "      <td>...</td>\n",
       "      <td>False</td>\n",
       "      <td>False</td>\n",
       "      <td>False</td>\n",
       "      <td>False</td>\n",
       "      <td>False</td>\n",
       "      <td>False</td>\n",
       "      <td>2022-06-30T14:27:53.293Z</td>\n",
       "      <td>2022-06-30T14:27:53.293Z</td>\n",
       "      <td>1.656614e+09</td>\n",
       "      <td>-2</td>\n",
       "    </tr>\n",
       "    <tr>\n",
       "      <th>...</th>\n",
       "      <td>...</td>\n",
       "      <td>...</td>\n",
       "      <td>...</td>\n",
       "      <td>...</td>\n",
       "      <td>...</td>\n",
       "      <td>...</td>\n",
       "      <td>...</td>\n",
       "      <td>...</td>\n",
       "      <td>...</td>\n",
       "      <td>...</td>\n",
       "      <td>...</td>\n",
       "      <td>...</td>\n",
       "      <td>...</td>\n",
       "      <td>...</td>\n",
       "      <td>...</td>\n",
       "      <td>...</td>\n",
       "      <td>...</td>\n",
       "      <td>...</td>\n",
       "      <td>...</td>\n",
       "      <td>...</td>\n",
       "      <td>...</td>\n",
       "    </tr>\n",
       "    <tr>\n",
       "      <th>55990</th>\n",
       "      <td>2022-06-30 18:09:30.416</td>\n",
       "      <td>::1656626970.416</td>\n",
       "      <td>39.359027</td>\n",
       "      <td>-74.434694</td>\n",
       "      <td>162.35</td>\n",
       "      <td>0.09</td>\n",
       "      <td>248.101</td>\n",
       "      <td>235.762</td>\n",
       "      <td>0.746</td>\n",
       "      <td>-0.188</td>\n",
       "      <td>...</td>\n",
       "      <td>False</td>\n",
       "      <td>False</td>\n",
       "      <td>False</td>\n",
       "      <td>False</td>\n",
       "      <td>False</td>\n",
       "      <td>False</td>\n",
       "      <td>2022-06-30T18:09:30.416Z</td>\n",
       "      <td>2022-06-30T18:09:30.416Z</td>\n",
       "      <td>1.656627e+09</td>\n",
       "      <td>-2</td>\n",
       "    </tr>\n",
       "    <tr>\n",
       "      <th>55991</th>\n",
       "      <td>2022-06-30 18:09:30.445</td>\n",
       "      <td>::1656626970.445</td>\n",
       "      <td>39.359027</td>\n",
       "      <td>-74.434694</td>\n",
       "      <td>162.35</td>\n",
       "      <td>0.09</td>\n",
       "      <td>248.100</td>\n",
       "      <td>235.761</td>\n",
       "      <td>0.746</td>\n",
       "      <td>-0.188</td>\n",
       "      <td>...</td>\n",
       "      <td>False</td>\n",
       "      <td>False</td>\n",
       "      <td>False</td>\n",
       "      <td>False</td>\n",
       "      <td>False</td>\n",
       "      <td>False</td>\n",
       "      <td>2022-06-30T18:09:30.445Z</td>\n",
       "      <td>2022-06-30T18:09:30.445Z</td>\n",
       "      <td>1.656627e+09</td>\n",
       "      <td>-2</td>\n",
       "    </tr>\n",
       "    <tr>\n",
       "      <th>55992</th>\n",
       "      <td>2022-06-30 18:09:30.463</td>\n",
       "      <td>::1656626970.463</td>\n",
       "      <td>39.359027</td>\n",
       "      <td>-74.434694</td>\n",
       "      <td>162.35</td>\n",
       "      <td>0.09</td>\n",
       "      <td>248.100</td>\n",
       "      <td>235.761</td>\n",
       "      <td>0.746</td>\n",
       "      <td>-0.188</td>\n",
       "      <td>...</td>\n",
       "      <td>False</td>\n",
       "      <td>False</td>\n",
       "      <td>False</td>\n",
       "      <td>False</td>\n",
       "      <td>False</td>\n",
       "      <td>False</td>\n",
       "      <td>2022-06-30T18:09:30.463Z</td>\n",
       "      <td>2022-06-30T18:09:30.463Z</td>\n",
       "      <td>1.656627e+09</td>\n",
       "      <td>-2</td>\n",
       "    </tr>\n",
       "    <tr>\n",
       "      <th>55993</th>\n",
       "      <td>2022-06-30 18:09:30.481</td>\n",
       "      <td>::1656626970.481</td>\n",
       "      <td>39.359027</td>\n",
       "      <td>-74.434694</td>\n",
       "      <td>162.35</td>\n",
       "      <td>0.09</td>\n",
       "      <td>248.099</td>\n",
       "      <td>235.761</td>\n",
       "      <td>0.745</td>\n",
       "      <td>-0.188</td>\n",
       "      <td>...</td>\n",
       "      <td>False</td>\n",
       "      <td>False</td>\n",
       "      <td>False</td>\n",
       "      <td>False</td>\n",
       "      <td>False</td>\n",
       "      <td>False</td>\n",
       "      <td>2022-06-30T18:09:30.481Z</td>\n",
       "      <td>2022-06-30T18:09:30.481Z</td>\n",
       "      <td>1.656627e+09</td>\n",
       "      <td>-2</td>\n",
       "    </tr>\n",
       "    <tr>\n",
       "      <th>55994</th>\n",
       "      <td>2022-06-30 18:09:30.511</td>\n",
       "      <td>::1656626970.511</td>\n",
       "      <td>39.359027</td>\n",
       "      <td>-74.434694</td>\n",
       "      <td>162.35</td>\n",
       "      <td>0.09</td>\n",
       "      <td>248.099</td>\n",
       "      <td>235.760</td>\n",
       "      <td>0.745</td>\n",
       "      <td>-0.188</td>\n",
       "      <td>...</td>\n",
       "      <td>False</td>\n",
       "      <td>False</td>\n",
       "      <td>False</td>\n",
       "      <td>False</td>\n",
       "      <td>False</td>\n",
       "      <td>False</td>\n",
       "      <td>2022-06-30T18:09:30.511Z</td>\n",
       "      <td>2022-06-30T18:09:30.511Z</td>\n",
       "      <td>1.656627e+09</td>\n",
       "      <td>-2</td>\n",
       "    </tr>\n",
       "  </tbody>\n",
       "</table>\n",
       "<p>393191 rows × 107 columns</p>\n",
       "</div>"
      ],
      "text/plain": [
       "                     datetime               _id   latitude   longitude  \\\n",
       "0     2022-06-30 14:27:53.216  ::1656613673.216  20.904799 -156.424679   \n",
       "1     2022-06-30 14:27:53.234  ::1656613673.234  20.904799 -156.424679   \n",
       "2     2022-06-30 14:27:53.251  ::1656613673.251  20.904799 -156.424679   \n",
       "3     2022-06-30 14:27:53.271  ::1656613673.271  20.904799 -156.424679   \n",
       "4     2022-06-30 14:27:53.293  ::1656613673.293  20.904799 -156.424679   \n",
       "...                       ...               ...        ...         ...   \n",
       "55990 2022-06-30 18:09:30.416  ::1656626970.416  39.359027  -74.434694   \n",
       "55991 2022-06-30 18:09:30.445  ::1656626970.445  39.359027  -74.434694   \n",
       "55992 2022-06-30 18:09:30.463  ::1656626970.463  39.359027  -74.434694   \n",
       "55993 2022-06-30 18:09:30.481  ::1656626970.481  39.359027  -74.434694   \n",
       "55994 2022-06-30 18:09:30.511  ::1656626970.511  39.359027  -74.434694   \n",
       "\n",
       "       gpsAltitude  absoluteAltitude  magneticHeading  trueHeading  pitch  \\\n",
       "0            36.82              0.12          204.071      213.554  1.594   \n",
       "1            36.82              0.12          204.064      213.547  1.593   \n",
       "2            36.82              0.12          204.058      213.541  1.593   \n",
       "3            36.81              0.12          204.051      213.534  1.594   \n",
       "4            36.81              0.12          204.043      213.526  1.596   \n",
       "...            ...               ...              ...          ...    ...   \n",
       "55990       162.35              0.09          248.101      235.762  0.746   \n",
       "55991       162.35              0.09          248.100      235.761  0.746   \n",
       "55992       162.35              0.09          248.100      235.761  0.746   \n",
       "55993       162.35              0.09          248.099      235.761  0.745   \n",
       "55994       162.35              0.09          248.099      235.760  0.745   \n",
       "\n",
       "        roll  ...  hasMainRotorLowRpmWarning  hasMainRotorHighRpmWarning  \\\n",
       "0      0.665  ...                      False                       False   \n",
       "1      0.683  ...                      False                       False   \n",
       "2      0.707  ...                      False                       False   \n",
       "3      0.735  ...                      False                       False   \n",
       "4      0.770  ...                      False                       False   \n",
       "...      ...  ...                        ...                         ...   \n",
       "55990 -0.188  ...                      False                       False   \n",
       "55991 -0.188  ...                      False                       False   \n",
       "55992 -0.188  ...                      False                       False   \n",
       "55993 -0.188  ...                      False                       False   \n",
       "55994 -0.188  ...                      False                       False   \n",
       "\n",
       "       hasTailRotorChipWarning  hasTransmissionChipCaution  \\\n",
       "0                        False                       False   \n",
       "1                        False                       False   \n",
       "2                        False                       False   \n",
       "3                        False                       False   \n",
       "4                        False                       False   \n",
       "...                        ...                         ...   \n",
       "55990                    False                       False   \n",
       "55991                    False                       False   \n",
       "55992                    False                       False   \n",
       "55993                    False                       False   \n",
       "55994                    False                       False   \n",
       "\n",
       "       hasTransmissionOilTemperatureWarning  \\\n",
       "0                                     False   \n",
       "1                                     False   \n",
       "2                                     False   \n",
       "3                                     False   \n",
       "4                                     False   \n",
       "...                                     ...   \n",
       "55990                                 False   \n",
       "55991                                 False   \n",
       "55992                                 False   \n",
       "55993                                 False   \n",
       "55994                                 False   \n",
       "\n",
       "       hasTransmissionOilPressureWarning                 timestamp  \\\n",
       "0                                  False  2022-06-30T14:27:53.216Z   \n",
       "1                                  False  2022-06-30T14:27:53.234Z   \n",
       "2                                  False  2022-06-30T14:27:53.251Z   \n",
       "3                                  False  2022-06-30T14:27:53.271Z   \n",
       "4                                  False  2022-06-30T14:27:53.293Z   \n",
       "...                                  ...                       ...   \n",
       "55990                              False  2022-06-30T18:09:30.416Z   \n",
       "55991                              False  2022-06-30T18:09:30.445Z   \n",
       "55992                              False  2022-06-30T18:09:30.463Z   \n",
       "55993                              False  2022-06-30T18:09:30.481Z   \n",
       "55994                              False  2022-06-30T18:09:30.511Z   \n",
       "\n",
       "                    gpsDateTime       seconds  vil  \n",
       "0      2022-06-30T14:27:53.216Z  1.656614e+09   -2  \n",
       "1      2022-06-30T14:27:53.234Z  1.656614e+09   -2  \n",
       "2      2022-06-30T14:27:53.251Z  1.656614e+09   -2  \n",
       "3      2022-06-30T14:27:53.271Z  1.656614e+09   -2  \n",
       "4      2022-06-30T14:27:53.293Z  1.656614e+09   -2  \n",
       "...                         ...           ...  ...  \n",
       "55990  2022-06-30T18:09:30.416Z  1.656627e+09   -2  \n",
       "55991  2022-06-30T18:09:30.445Z  1.656627e+09   -2  \n",
       "55992  2022-06-30T18:09:30.463Z  1.656627e+09   -2  \n",
       "55993  2022-06-30T18:09:30.481Z  1.656627e+09   -2  \n",
       "55994  2022-06-30T18:09:30.511Z  1.656627e+09   -2  \n",
       "\n",
       "[393191 rows x 107 columns]"
      ]
     },
     "execution_count": 5,
     "metadata": {},
     "output_type": "execute_result"
    }
   ],
   "source": [
    "df"
   ]
  },
  {
   "cell_type": "code",
   "execution_count": 6,
   "id": "ad1f4dee",
   "metadata": {},
   "outputs": [
    {
     "name": "stderr",
     "output_type": "stream",
     "text": [
      "C:\\Users\\david\\AppData\\Local\\Temp\\ipykernel_18640\\2309700938.py:44: SettingWithCopyWarning: \n",
      "A value is trying to be set on a copy of a slice from a DataFrame.\n",
      "Try using .loc[row_indexer,col_indexer] = value instead\n",
      "\n",
      "See the caveats in the documentation: https://pandas.pydata.org/pandas-docs/stable/user_guide/indexing.html#returning-a-view-versus-a-copy\n",
      "  df2['datetime'] = df2.datetime.dt.strftime('%Y-%m-%d %H:%M:%S').astype('datetime64[ns]')\n"
     ]
    }
   ],
   "source": [
    "df2 = df[['datetime',\n",
    "          'latitude',\n",
    "          'longitude',\n",
    "          'absoluteAltitude', \n",
    "          'trueHeading', \n",
    "          'groundSpeed', \n",
    "          'trueAirspeed',\n",
    "          'pitch', \n",
    "          'roll',\n",
    "          'yaw',\n",
    "          'angleOfAttack',\n",
    "          'flightPathAngle',\n",
    "          'verticalFlightPathAngle',\n",
    "          'horizontalFlightPathAngle',\n",
    "          'rollAcceleration',\n",
    "          'pitchAcceleration',\n",
    "          'yawAcceleration',\n",
    "          'e1N1ng',\n",
    "          'e2N1ng',\n",
    "          'e1N2nf',\n",
    "          'e2N2nf',\n",
    "          'mainRotorRpm',\n",
    "          'tailRotorRpm',\n",
    "          'mainRotorTorque',\n",
    "          'e1Itt',\n",
    "          'e2Itt',\n",
    "          'mainRotorInducedInflow',\n",
    "          'flightDirectorPitch',\n",
    "          'flightDirectorRoll',\n",
    "          'climbOrDescentRate', \n",
    "          'hasWeightOnWheels',\n",
    "          'turnRate to degPerSec',\n",
    "          'cyclicPositionPitch',\n",
    "          'cyclicPositionRoll',\n",
    "          'collectivePosition',\n",
    "          'antiTorquePedalPosition',\n",
    "          'throttlePosition',\n",
    "          'e1Torque',\n",
    "          'e2Torque',\n",
    "]] # only capture columns that relevant into another dataframe\n",
    "\n",
    "# Convert timestamp into year month day and hour in seconds \n",
    "# eliminate the milliseonds part in order to group them by seconds with an average\n",
    "df2['datetime'] = df2.datetime.dt.strftime('%Y-%m-%d %H:%M:%S').astype('datetime64[ns]')\n",
    "\n",
    "\n",
    "# Group all row by seconds with a average all the datapoint into another dataframe\n",
    "df3 = df2.groupby(by=[\"datetime\"], dropna=False).mean().reset_index()"
   ]
  },
  {
   "cell_type": "code",
   "execution_count": 7,
   "id": "bcf412f8",
   "metadata": {},
   "outputs": [],
   "source": [
    "# ######### For deep learning model\n",
    "# df3 = df[['datetime',\n",
    "#           'latitude',\n",
    "#           'longitude', \n",
    "#           'absoluteAltitude', \n",
    "#           'trueHeading', \n",
    "#           'groundSpeed', \n",
    "#           'trueAirspeed', \n",
    "#           'climbOrDescentRate', \n",
    "#           'hasWeightOnWheels', \n",
    "#           'turnRate to degPerSec', \n",
    "#           'cyclicPositionPitch', \n",
    "#           'cyclicPositionRoll', \n",
    "#           'collectivePosition', \n",
    "#           'antiTorquePedalPosition', \n",
    "#           'throttlePosition', \n",
    "#           'e1Torque', \n",
    "#           'e2Torque',\n",
    "# ]] # only capture columns that relevant into another dataframe\n",
    "\n",
    "# # Convert timestamp into year month day and hour in seconds \n",
    "# # eliminate the milliseonds part in order to group them by seconds with an average\n",
    "# # df2['datetime'] = df2.datetime.dt.strftime('%Y-%m-%d %H:%M:%S').astype('datetime64[ns]')\n",
    "\n",
    "\n",
    "# # Group all row by seconds with a average all the datapoint into another dataframe\n",
    "# # df3 = df2.groupby(by=[\"datetime\"], dropna=False).mean().reset_index()"
   ]
  },
  {
   "cell_type": "code",
   "execution_count": 8,
   "id": "42841612",
   "metadata": {},
   "outputs": [],
   "source": [
    "df3['HoverOrNot'] = 0\n",
    "\n",
    "df3.loc[(df3['datetime'].between('2022-06-30 14:28:13' , '2022-06-30 14:33:12' , inclusive='both')),['HoverOrNot']] = 1\n",
    "\n",
    "df3.loc[(df3['datetime'].between('2022-06-30 14:34:10' , '2022-06-30 14:38:29' , inclusive='both')),['HoverOrNot']] = 1\n",
    "\n",
    "df3.loc[(df3['datetime'].between('2022-06-30 14:40:10' , '2022-06-30 14:43:40' , inclusive='both')),['HoverOrNot']] = 1\n",
    "\n",
    "df3.loc[(df3['datetime'].between('2022-06-30 14:46:00' , '2022-06-30 14:55:55' , inclusive='both')),['HoverOrNot']] = 1\n",
    "\n",
    "df3.loc[(df3['datetime'].between('2022-06-30 14:57:10' , '2022-06-30 15:00:16' , inclusive='both')),['HoverOrNot']] = 1\n",
    "\n",
    "df3.loc[(df3['datetime'].between('2022-06-30 15:01:20' , '2022-06-30 15:07:03' , inclusive='both')),['HoverOrNot']] = 1\n",
    "\n",
    "df3.loc[(df3['datetime'].between('2022-06-30 15:07:38' , '2022-06-30 15:10:38' , inclusive='both')),['HoverOrNot']] = 1\n",
    "\n",
    "df3.loc[(df3['datetime'].between('2022-06-30 15:12:02' , '2022-06-30 15:18:30' , inclusive='both')),['HoverOrNot']] = 1\n",
    "\n",
    "df3.loc[(df3['datetime'].between('2022-06-30 15:20:18' , '2022-06-30 15:23:52' , inclusive='both')),['HoverOrNot']] = 1\n",
    "\n",
    "df3.loc[(df3['datetime'].between('2022-06-30 15:25:30' , '2022-06-30 15:30:17' , inclusive='both')),['HoverOrNot']] = 1\n",
    "\n",
    "df3.loc[(df3['datetime'].between('2022-06-30 15:36:45' , '2022-06-30 15:40:24' , inclusive='both')),['HoverOrNot']] = 1\n",
    "\n",
    "df3.loc[(df3['datetime'].between('2022-06-30 15:42:28' , '2022-06-30 15:55:20' , inclusive='both')),['HoverOrNot']] = 1\n",
    "\n",
    "\n",
    "# Double check to see hasWeightOnWheels = 1, then set Hover Or Not = 0\n",
    "df3.loc[(df3['hasWeightOnWheels'] == 1), ['HoverOrNot']] = 0"
   ]
  },
  {
   "cell_type": "code",
   "execution_count": 9,
   "id": "f9b7f2b7",
   "metadata": {},
   "outputs": [
    {
     "data": {
      "text/plain": [
       "4905"
      ]
     },
     "execution_count": 9,
     "metadata": {},
     "output_type": "execute_result"
    }
   ],
   "source": [
    "len(df3[(df3['HoverOrNot'] == 1)]) #3946\n",
    "len(df3[(df3['HoverOrNot'] == 0)]) #4905"
   ]
  },
  {
   "cell_type": "markdown",
   "id": "7a1cc76e",
   "metadata": {},
   "source": [
    "<h2> Since hover data is only 1/4 of the dataset, hence we have to randomly select the same amount of data for not hover"
   ]
  },
  {
   "cell_type": "code",
   "execution_count": 10,
   "id": "4b8e3dc7",
   "metadata": {},
   "outputs": [],
   "source": [
    "# Randomly sample dataset where hoverOrNot is 0\n",
    "df4 = df3[(df3['HoverOrNot'] == 0)].sample(n=3946, replace=False, random_state=21321321)\n",
    "\n",
    "# Concat data from where HoverOrNot = 1 and HoverOrNot = 0\n",
    "\n",
    "df5 = pd.concat([df3[(df3['HoverOrNot'] == 1)], df4], ignore_index=True)\n",
    "\n",
    "# Shuffle data in random way\n",
    "df5 = df5.sample(frac=1)"
   ]
  },
  {
   "cell_type": "code",
   "execution_count": 11,
   "id": "183e0aee",
   "metadata": {},
   "outputs": [],
   "source": [
    "from pandas.plotting import scatter_matrix\n",
    "from matplotlib import cm\n",
    "\n",
    "feature_names = ['absoluteAltitude',\n",
    "                 'trueHeading', \n",
    "                 'groundSpeed', \n",
    "                 'climbOrDescentRate',\n",
    "                 'turnRate to degPerSec',\n",
    "                 'cyclicPositionPitch',\n",
    "                 'cyclicPositionRoll',\n",
    "                 'collectivePosition',\n",
    "                 'antiTorquePedalPosition',\n",
    "                 'throttlePosition',\n",
    "                 'e1Torque',\n",
    "                 'e2Torque']               \n",
    "                \n",
    "                \n",
    "X = df5[feature_names]\n",
    "y = df5['HoverOrNot']\n",
    "\n",
    "\n",
    "from sklearn.model_selection import train_test_split\n",
    "X_train, X_test, y_train, y_test = train_test_split(X, y, test_size=0.33, random_state=516516)\n",
    "\n",
    "\n",
    "from sklearn.preprocessing import StandardScaler\n",
    "scaler = StandardScaler()\n",
    "X_train = scaler.fit_transform(X_train)\n",
    "X_test = scaler.transform(X_test)"
   ]
  },
  {
   "cell_type": "code",
   "execution_count": 12,
   "id": "7ee7b44e",
   "metadata": {},
   "outputs": [
    {
     "name": "stdout",
     "output_type": "stream",
     "text": [
      "Fitting 5 folds for each of 5 candidates, totalling 25 fits\n",
      "[CV 1/5] END .................C=0.1, kernel=rbf;, score=0.938 total time=   0.2s\n",
      "[CV 2/5] END .................C=0.1, kernel=rbf;, score=0.943 total time=   0.2s\n",
      "[CV 3/5] END .................C=0.1, kernel=rbf;, score=0.950 total time=   0.2s\n",
      "[CV 4/5] END .................C=0.1, kernel=rbf;, score=0.942 total time=   0.2s\n",
      "[CV 5/5] END .................C=0.1, kernel=rbf;, score=0.950 total time=   0.2s\n",
      "[CV 1/5] END ...................C=1, kernel=rbf;, score=0.940 total time=   0.2s\n",
      "[CV 2/5] END ...................C=1, kernel=rbf;, score=0.949 total time=   0.2s\n",
      "[CV 3/5] END ...................C=1, kernel=rbf;, score=0.956 total time=   0.2s\n",
      "[CV 4/5] END ...................C=1, kernel=rbf;, score=0.950 total time=   0.2s\n",
      "[CV 5/5] END ...................C=1, kernel=rbf;, score=0.951 total time=   0.2s\n",
      "[CV 1/5] END ..................C=10, kernel=rbf;, score=0.940 total time=   0.2s\n",
      "[CV 2/5] END ..................C=10, kernel=rbf;, score=0.961 total time=   0.2s\n",
      "[CV 3/5] END ..................C=10, kernel=rbf;, score=0.961 total time=   0.1s\n",
      "[CV 4/5] END ..................C=10, kernel=rbf;, score=0.956 total time=   0.1s\n",
      "[CV 5/5] END ..................C=10, kernel=rbf;, score=0.959 total time=   0.1s\n",
      "[CV 1/5] END .................C=100, kernel=rbf;, score=0.951 total time=   0.2s\n",
      "[CV 2/5] END .................C=100, kernel=rbf;, score=0.965 total time=   0.3s\n",
      "[CV 3/5] END .................C=100, kernel=rbf;, score=0.962 total time=   0.3s\n",
      "[CV 4/5] END .................C=100, kernel=rbf;, score=0.958 total time=   0.3s\n",
      "[CV 5/5] END .................C=100, kernel=rbf;, score=0.969 total time=   0.2s\n",
      "[CV 1/5] END ................C=1000, kernel=rbf;, score=0.955 total time=   0.4s\n",
      "[CV 2/5] END ................C=1000, kernel=rbf;, score=0.974 total time=   0.4s\n",
      "[CV 3/5] END ................C=1000, kernel=rbf;, score=0.965 total time=   0.4s\n",
      "[CV 4/5] END ................C=1000, kernel=rbf;, score=0.959 total time=   0.4s\n",
      "[CV 5/5] END ................C=1000, kernel=rbf;, score=0.967 total time=   0.4s\n"
     ]
    },
    {
     "data": {
      "text/plain": [
       "GridSearchCV(estimator=SVC(),\n",
       "             param_grid={'C': [0.1, 1, 10, 100, 1000], 'kernel': ['rbf']},\n",
       "             verbose=3)"
      ]
     },
     "execution_count": 12,
     "metadata": {},
     "output_type": "execute_result"
    }
   ],
   "source": [
    "param_grid = {'C': [0.1, 1, 10, 100, 1000],\n",
    "              'kernel': ['rbf']}\n",
    " \n",
    "grid = GridSearchCV(SVC(), param_grid, refit = True, verbose=3)\n",
    "grid.fit(X_train, y_train)"
   ]
  },
  {
   "cell_type": "code",
   "execution_count": 13,
   "id": "79a23150",
   "metadata": {},
   "outputs": [
    {
     "data": {
      "text/plain": [
       "0.9638735730649751"
      ]
     },
     "execution_count": 13,
     "metadata": {},
     "output_type": "execute_result"
    }
   ],
   "source": [
    "grid.best_score_"
   ]
  },
  {
   "cell_type": "code",
   "execution_count": 14,
   "id": "3d8dbc81",
   "metadata": {},
   "outputs": [
    {
     "data": {
      "text/plain": [
       "{'C': 1000, 'kernel': 'rbf'}"
      ]
     },
     "execution_count": 14,
     "metadata": {},
     "output_type": "execute_result"
    }
   ],
   "source": [
    "grid.best_params_"
   ]
  },
  {
   "cell_type": "code",
   "execution_count": 15,
   "id": "8ba1d36d",
   "metadata": {},
   "outputs": [
    {
     "name": "stdout",
     "output_type": "stream",
     "text": [
      "Accuracy of SVM classifier on training set: 0.95\n",
      "Accuracy of SVM classifier on test set: 0.95\n"
     ]
    }
   ],
   "source": [
    "svm = SVC()\n",
    "svm.fit(X_train, y_train)\n",
    "print('Accuracy of SVM classifier on training set: {:.2f}'\n",
    "     .format(svm.score(X_train, y_train)))\n",
    "print('Accuracy of SVM classifier on test set: {:.2f}'\n",
    "     .format(svm.score(X_test, y_test)))"
   ]
  },
  {
   "cell_type": "code",
   "execution_count": 16,
   "id": "d249128f",
   "metadata": {},
   "outputs": [
    {
     "data": {
      "text/plain": [
       "{'C': 1.0,\n",
       " 'break_ties': False,\n",
       " 'cache_size': 200,\n",
       " 'class_weight': None,\n",
       " 'coef0': 0.0,\n",
       " 'decision_function_shape': 'ovr',\n",
       " 'degree': 3,\n",
       " 'gamma': 'scale',\n",
       " 'kernel': 'rbf',\n",
       " 'max_iter': -1,\n",
       " 'probability': False,\n",
       " 'random_state': None,\n",
       " 'shrinking': True,\n",
       " 'tol': 0.001,\n",
       " 'verbose': False}"
      ]
     },
     "execution_count": 16,
     "metadata": {},
     "output_type": "execute_result"
    }
   ],
   "source": [
    "svm.get_params()"
   ]
  },
  {
   "cell_type": "code",
   "execution_count": 17,
   "id": "885260b6",
   "metadata": {},
   "outputs": [],
   "source": [
    "import xgboost as xgb\n",
    "from sklearn.metrics import accuracy_score\n",
    "from sklearn.model_selection import GridSearchCV\n",
    "\n",
    "xgb_cl  = xgb.XGBClassifier(\n",
    "                objective=\"binary:logistic\",\n",
    "                )\n",
    "param_grid = {\n",
    "    'max_depth': [3, 4, 5, 7],\n",
    "    'learning_rate': [0.1, 0.01, 0.05],\n",
    "    'gamma': [0, 0.25, 1],\n",
    "    'reg_lambda': [0, 1, 10],\n",
    "    'scale_pos_weight': [1, 3, 5],\n",
    "    'subsample': [0.8],\n",
    "    'colsample_bytree': [0.5],\n",
    "}\n",
    "grid_cv = GridSearchCV(xgb_cl, param_grid, n_jobs=-1, cv=3, scoring=\"roc_auc\")\n",
    "_ = grid_cv.fit(X_train, y_train)"
   ]
  },
  {
   "cell_type": "code",
   "execution_count": 18,
   "id": "09b8cf2c",
   "metadata": {},
   "outputs": [
    {
     "data": {
      "text/plain": [
       "0.9972597308551383"
      ]
     },
     "execution_count": 18,
     "metadata": {},
     "output_type": "execute_result"
    }
   ],
   "source": [
    "grid_cv.best_score_"
   ]
  },
  {
   "cell_type": "code",
   "execution_count": 19,
   "id": "960593a0",
   "metadata": {},
   "outputs": [
    {
     "data": {
      "text/plain": [
       "{'colsample_bytree': 0.5,\n",
       " 'gamma': 0.25,\n",
       " 'learning_rate': 0.1,\n",
       " 'max_depth': 7,\n",
       " 'reg_lambda': 0,\n",
       " 'scale_pos_weight': 5,\n",
       " 'subsample': 0.8}"
      ]
     },
     "execution_count": 19,
     "metadata": {},
     "output_type": "execute_result"
    }
   ],
   "source": [
    "grid_cv.best_params_"
   ]
  },
  {
   "cell_type": "code",
   "execution_count": 20,
   "id": "e82977d0",
   "metadata": {},
   "outputs": [
    {
     "name": "stdout",
     "output_type": "stream",
     "text": [
      "Accuracy of XGBoost Classifier on training set: 1.00\n",
      "Accuracy of XGBoost classifier on test set: 0.98\n"
     ]
    }
   ],
   "source": [
    "xgb_classifier = xgb.XGBClassifier(\n",
    "    **grid_cv.best_params_,\n",
    "    objective=\"binary:logistic\",\n",
    ")\n",
    "\n",
    "xgb_classifier.fit(X_train,y_train)\n",
    "\n",
    "print('Accuracy of XGBoost Classifier on training set: {:.2f}'\n",
    "     .format(accuracy_score(y_train, xgb_classifier.predict(X_train))))\n",
    "\n",
    "\n",
    "print('Accuracy of XGBoost classifier on test set: {:.2f}'\n",
    "     .format(accuracy_score(y_test, xgb_classifier.predict(X_test))))"
   ]
  },
  {
   "cell_type": "markdown",
   "id": "347b743b",
   "metadata": {},
   "source": [
    "<h2> Using XGBoost model to predict the validation file"
   ]
  },
  {
   "cell_type": "markdown",
   "id": "0eb1441f",
   "metadata": {},
   "source": [
    "<H4> Processing the validation file to make it into the same structure"
   ]
  },
  {
   "cell_type": "code",
   "execution_count": 21,
   "id": "dbdfe487",
   "metadata": {},
   "outputs": [
    {
     "name": "stdout",
     "output_type": "stream",
     "text": [
      "D:\\School\\Graduate 2022 Summer\\Data\\OneDrive_1_7-3-2022\n"
     ]
    }
   ],
   "source": [
    "%cd \"D:\\School\\Graduate 2022 Summer\\Data\\OneDrive_1_7-3-2022\"\n",
    "\n",
    "valid_data1 = pd.read_csv('SimData_2022.06.30_09.16.15.csv.roar.csv',\n",
    "                parse_dates = {'datetime': ['date', 'time']},\n",
    "                low_memory=False)\n",
    "\n",
    "valid_data2 = pd.read_csv('SimData_2022.06.30_09.43.28.csv.roar.csv',\n",
    "                parse_dates = {'datetime': ['date', 'time']},\n",
    "                low_memory=False)\n",
    "\n",
    "validation_file = pd.concat([valid_data1, valid_data2], ignore_index=True)\n",
    "\n",
    "validation_file = validation_file[['datetime',\n",
    "          'latitude',\n",
    "          'longitude',\n",
    "          'absoluteAltitude', \n",
    "          'trueHeading', \n",
    "          'groundSpeed', \n",
    "          'trueAirspeed',\n",
    "          'pitch', \n",
    "          'roll',\n",
    "          'yaw',\n",
    "          'angleOfAttack',\n",
    "          'flightPathAngle',\n",
    "          'verticalFlightPathAngle',\n",
    "          'horizontalFlightPathAngle',\n",
    "          'rollAcceleration',\n",
    "          'pitchAcceleration',\n",
    "          'yawAcceleration',\n",
    "          'e1N1ng',\n",
    "          'e2N1ng',\n",
    "          'e1N2nf',\n",
    "          'e2N2nf',\n",
    "          'mainRotorRpm',\n",
    "          'tailRotorRpm',\n",
    "          'mainRotorTorque',\n",
    "          'e1Itt',\n",
    "          'e2Itt',\n",
    "          'mainRotorInducedInflow',\n",
    "          'flightDirectorPitch',\n",
    "          'flightDirectorRoll',\n",
    "          'climbOrDescentRate', \n",
    "          'hasWeightOnWheels',\n",
    "          'turnRate to degPerSec',\n",
    "          'cyclicPositionPitch',\n",
    "          'cyclicPositionRoll',\n",
    "          'collectivePosition',\n",
    "          'antiTorquePedalPosition',\n",
    "          'throttlePosition',\n",
    "          'e1Torque',\n",
    "          'e2Torque',\n",
    "]] # only capture columns that relevant into another dataframe\n",
    "\n",
    "# Convert timestamp into year month day and hour in seconds \n",
    "# eliminate the milliseonds part in order to group them by seconds with an average\n",
    "validation_file['datetime'] = validation_file.datetime.dt.strftime('%Y-%m-%d %H:%M:%S').astype('datetime64[ns]')\n",
    "\n",
    "\n",
    "# Group all row by seconds with a average all the datapoint into another dataframe\n",
    "validation_file = validation_file.groupby(by=[\"datetime\"], dropna=False).mean().reset_index()\n",
    "\n",
    "validation_file['HoverOrNot'] = 0\n",
    "\n",
    "validation_file.loc[(validation_file['datetime'].between('2022-06-30 13:48:11' , '2022-06-30 13:52:20' , inclusive='both')),['HoverOrNot']] = 1\n",
    "\n",
    "validation_file.loc[(validation_file['datetime'].between('2022-06-30 13:53:15' , '2022-06-30 13:54:18' , inclusive='both')),['HoverOrNot']] = 1\n",
    "\n",
    "validation_file.loc[(validation_file['datetime'].between('2022-06-30 13:55:29' , '2022-06-30 13:56:15' , inclusive='both')),['HoverOrNot']] = 1\n",
    "validation_file.loc[(validation_file['datetime'].between('2022-06-30 13:56:23' , '2022-06-30 13:57:13' , inclusive='both')),['HoverOrNot']] = 1\n",
    "\n",
    "validation_file.loc[(validation_file['datetime'].between('2022-06-30 13:59:00' , '2022-06-30 14:00:14' , inclusive='both')),['HoverOrNot']] = 1\n",
    "\n",
    "validation_file.loc[(validation_file['datetime'].between('2022-06-30 14:02:12' , '2022-06-30 14:03:50' , inclusive='both')),['HoverOrNot']] = 1\n",
    "\n",
    "validation_file.loc[(validation_file['datetime'].between('2022-06-30 14:05:25' , '2022-06-30 14:16:45' , inclusive='both')),['HoverOrNot']] = 1\n",
    "\n",
    "validation_file.loc[(validation_file['datetime'].between('2022-06-30 14:18:10' , '2022-06-30 14:19:34' , inclusive='both')),['HoverOrNot']] = 1\n",
    "\n",
    "validation_file.loc[(validation_file['datetime'].between('2022-06-30 14:22:40' , '2022-06-30 14:24:40' , inclusive='both')),['HoverOrNot']] = 1\n"
   ]
  },
  {
   "cell_type": "code",
   "execution_count": 22,
   "id": "ec693ab7",
   "metadata": {},
   "outputs": [],
   "source": [
    "X_validation = validation_file[feature_names]\n",
    "y_validation = validation_file['HoverOrNot']\n",
    "\n",
    "\n",
    "X_valid = scaler.transform(X_validation)"
   ]
  },
  {
   "cell_type": "code",
   "execution_count": 23,
   "id": "42ec6e01",
   "metadata": {},
   "outputs": [
    {
     "name": "stdout",
     "output_type": "stream",
     "text": [
      "Accuracy of Model:: 0.8850605652759085\n"
     ]
    }
   ],
   "source": [
    "validation_xgb = xgb_classifier.predict(X_valid)\n",
    "print(\"Accuracy of Model::\",accuracy_score(y_validation,validation_xgb))"
   ]
  },
  {
   "cell_type": "code",
   "execution_count": 24,
   "id": "75d9d986",
   "metadata": {},
   "outputs": [
    {
     "name": "stdout",
     "output_type": "stream",
     "text": [
      "Accuracy of Model:: 0.891520861372813\n"
     ]
    }
   ],
   "source": [
    "validation_svm = svm.predict(X_valid)\n",
    "print(\"Accuracy of Model::\",accuracy_score(y_validation,validation_svm))"
   ]
  },
  {
   "cell_type": "code",
   "execution_count": 25,
   "id": "da51b09e",
   "metadata": {},
   "outputs": [],
   "source": [
    "validation_file['HoverOrNot'] = validation_file['HoverOrNot'] * 10"
   ]
  },
  {
   "cell_type": "code",
   "execution_count": 26,
   "id": "8442f6c0",
   "metadata": {},
   "outputs": [
    {
     "data": {
      "image/png": "[encoded data removed]",
      "text/plain": [
       "<Figure size 864x576 with 1 Axes>"
      ]
     },
     "metadata": {
      "needs_background": "light"
     },
     "output_type": "display_data"
    }
   ],
   "source": [
    "import matplotlib.dates as mdates\n",
    "\n",
    "validation_file['xgb_predicted'] = validation_xgb * 20\n",
    "\n",
    "plt.figure(figsize=(12, 8))\n",
    "# plt.plot('datetime','absoluteAltitude',\n",
    "#          data = validation_file,\n",
    "#          label = \"absoluteAltitude\")\n",
    "plt.plot('datetime','groundSpeed',\n",
    "         data = validation_file,\n",
    "         label = \"groundSpeed\")\n",
    "plt.plot('datetime','xgb_predicted',\n",
    "         data = validation_file,\n",
    "         label = \"xgb_predicted\")\n",
    "plt.plot('datetime','HoverOrNot',\n",
    "         data = validation_file,\n",
    "         label = \"HoverOrNot\")\n",
    "\n",
    "#Set format of the plot chart\n",
    "plt.gca().xaxis.set_major_locator(mdates.SecondLocator(interval=90))\n",
    "plt.gca().xaxis.set_major_formatter(mdates.DateFormatter('%H:%M:%S'))\n",
    "plt.xticks(rotation=90)\n",
    "# plt.gcf().autofmt_xdate()\n",
    "\n",
    "\n",
    "plt.xlabel('Time')\n",
    "plt.ylabel('Value') \n",
    "plt.title('XGBoost Model Prediction')\n",
    "plt.legend()\n",
    "plt.show()"
   ]
  },
  {
   "cell_type": "code",
   "execution_count": 27,
   "id": "1297b86a",
   "metadata": {},
   "outputs": [
    {
     "data": {
      "image/png": "[encoded data removed]",
      "text/plain": [
       "<Figure size 864x576 with 1 Axes>"
      ]
     },
     "metadata": {
      "needs_background": "light"
     },
     "output_type": "display_data"
    }
   ],
   "source": [
    "import matplotlib.dates as mdates\n",
    "\n",
    "validation_file['svm_predicted'] = validation_svm * 20\n",
    "\n",
    "plt.figure(figsize=(12, 8))\n",
    "# plt.plot('datetime','absoluteAltitude',\n",
    "#          data = validation_file,\n",
    "#          label = \"absoluteAltitude\")\n",
    "plt.plot('datetime','groundSpeed',\n",
    "         data = validation_file,\n",
    "         label = \"groundSpeed\")\n",
    "plt.plot('datetime','svm_predicted',\n",
    "         data = validation_file,\n",
    "         label = \"svm_predicted\")\n",
    "plt.plot('datetime','HoverOrNot',\n",
    "         data = validation_file,\n",
    "         label = \"HoverOrNot\")\n",
    "\n",
    "#Set format of the plot chart\n",
    "plt.gca().xaxis.set_major_locator(mdates.SecondLocator(interval=90))\n",
    "plt.gca().xaxis.set_major_formatter(mdates.DateFormatter('%H:%M:%S'))\n",
    "plt.xticks(rotation=90)\n",
    "# plt.gcf().autofmt_xdate()\n",
    "\n",
    "\n",
    "plt.xlabel('Time')\n",
    "plt.ylabel('Value') \n",
    "plt.title('SVM Model Prediction')\n",
    "plt.legend()\n",
    "plt.show()"
   ]
  },
  {
   "cell_type": "markdown",
   "id": "186596a7",
   "metadata": {},
   "source": [
    "<h2> Test again 6/23 file"
   ]
  },
  {
   "cell_type": "code",
   "execution_count": 28,
   "id": "f4e780a0",
   "metadata": {},
   "outputs": [
    {
     "name": "stdout",
     "output_type": "stream",
     "text": [
      "D:\\School\\Graduate 2022 Summer\\Data\\OneDrive_1_6-28-2022\n"
     ]
    }
   ],
   "source": [
    "%cd \"D:\\School\\Graduate 2022 Summer\\Data\\OneDrive_1_6-28-2022\"\n",
    "\n",
    "valid_data_623_1 = pd.read_csv('SimData_2022.06.23_09.15.07.csv.roar.csv',\n",
    "                parse_dates = {'datetime': ['date', 'time']},\n",
    "                low_memory=False)\n",
    "\n",
    "valid_data_623_2 = pd.read_csv('SimData_2022.06.23_10.18.17.csv.roar.csv',\n",
    "                parse_dates = {'datetime': ['date', 'time']},\n",
    "                low_memory=False)\n",
    "\n",
    "valid_data_623_3 = pd.read_csv('SimData_2022.06.23_11.22.59.csv.roar.csv',\n",
    "                parse_dates = {'datetime': ['date', 'time']},\n",
    "                low_memory=False)\n",
    "\n",
    "validation_file = pd.concat([valid_data_623_1,\n",
    "                             valid_data_623_2,\n",
    "                             valid_data_623_3\n",
    "                            ], ignore_index=True)\n",
    "\n",
    "validation_file = validation_file[['datetime',\n",
    "          'latitude',\n",
    "          'longitude',\n",
    "          'absoluteAltitude', \n",
    "          'trueHeading', \n",
    "          'groundSpeed', \n",
    "          'trueAirspeed',\n",
    "          'pitch', \n",
    "          'roll',\n",
    "          'yaw',\n",
    "          'angleOfAttack',\n",
    "          'flightPathAngle',\n",
    "          'verticalFlightPathAngle',\n",
    "          'horizontalFlightPathAngle',\n",
    "          'rollAcceleration',\n",
    "          'pitchAcceleration',\n",
    "          'yawAcceleration',\n",
    "          'e1N1ng',\n",
    "          'e2N1ng',\n",
    "          'e1N2nf',\n",
    "          'e2N2nf',\n",
    "          'mainRotorRpm',\n",
    "          'tailRotorRpm',\n",
    "          'mainRotorTorque',\n",
    "          'e1Itt',\n",
    "          'e2Itt',\n",
    "          'mainRotorInducedInflow',\n",
    "          'flightDirectorPitch',\n",
    "          'flightDirectorRoll',\n",
    "          'climbOrDescentRate', \n",
    "          'hasWeightOnWheels',\n",
    "          'turnRate to degPerSec',\n",
    "          'cyclicPositionPitch',\n",
    "          'cyclicPositionRoll',\n",
    "          'collectivePosition',\n",
    "          'antiTorquePedalPosition',\n",
    "          'throttlePosition',\n",
    "          'e1Torque',\n",
    "          'e2Torque',\n",
    "]] # only capture columns that relevant into another dataframe\n",
    "\n",
    "# Convert timestamp into year month day and hour in seconds \n",
    "# eliminate the milliseonds part in order to group them by seconds with an average\n",
    "validation_file['datetime'] = validation_file.datetime.dt.strftime('%Y-%m-%d %H:%M:%S').astype('datetime64[ns]')\n",
    "\n",
    "\n",
    "# Group all row by seconds with a average all the datapoint into another dataframe\n",
    "validation_file = validation_file.groupby(by=[\"datetime\"], dropna=False).mean().reset_index()\n",
    "\n",
    "validation_file['HoverOrNot'] = 0\n",
    "\n",
    "validation_file.loc[(validation_file['datetime'].between('2022-06-23 13:30:45' , '2022-06-23 13:32:44' , inclusive='both')),['HoverOrNot']] = 1\n",
    "validation_file.loc[(validation_file['datetime'].between('2022-06-23 13:36:15' , '2022-06-23 13:37:22' , inclusive='both')),['HoverOrNot']] = 1\n",
    "\n",
    "validation_file.loc[(validation_file['datetime'].between('2022-06-23 13:41:25' , '2022-06-23 13:42:11' , inclusive='both')),['HoverOrNot']] = 1\n",
    "validation_file.loc[(validation_file['datetime'].between('2022-06-23 13:44:54' , '2022-06-23 13:46:20' , inclusive='both')),['HoverOrNot']] = 1\n",
    "\n",
    "validation_file.loc[(validation_file['datetime'].between('2022-06-23 13:50:19' , '2022-06-23 13:50:59' , inclusive='both')),['HoverOrNot']] = 1\n",
    "\n",
    "validation_file.loc[(validation_file['datetime'].between('2022-06-23 14:00:20' , '2022-06-23 14:01:00' , inclusive='both')),['HoverOrNot']] = 1\n",
    "validation_file.loc[(validation_file['datetime'].between('2022-06-23 14:01:00' , '2022-06-23 14:01:40' , inclusive='both')),['HoverOrNot']] = 1\n",
    "validation_file.loc[(validation_file['datetime'].between('2022-06-23 14:01:40' , '2022-06-23 14:02:00' , inclusive='both')),['HoverOrNot']] = 1\n",
    "validation_file.loc[(validation_file['datetime'].between('2022-06-23 14:02:00' , '2022-06-23 14:02:29' , inclusive='both')),['HoverOrNot']] = 1\n",
    "validation_file.loc[(validation_file['datetime'].between('2022-06-23 14:02:30' , '2022-06-23 14:03:00' , inclusive='both')),['HoverOrNot']] = 1\n",
    "validation_file.loc[(validation_file['datetime'].between('2022-06-23 14:03:22' , '2022-06-23 14:04:00' , inclusive='both')),['HoverOrNot']] = 1\n",
    "validation_file.loc[(validation_file['datetime'].between('2022-06-23 14:09:35' , '2022-06-23 14:15:00' , inclusive='both')),['HoverOrNot']] = 1\n",
    "validation_file.loc[(validation_file['datetime'].between('2022-06-23 14:22:38' , '2022-06-23 14:23:16' , inclusive='both')),['HoverOrNot']] = 1\n",
    "\n",
    "validation_file.loc[(validation_file['datetime'].between('2022-06-23 14:27:48' , '2022-06-23 14:29:21' , inclusive='both')),['HoverOrNot']] = 1\n",
    "\n",
    "validation_file.loc[(validation_file['datetime'].between('2022-06-23 14:34:35' , '2022-06-23 14:37:05' , inclusive='both')),['HoverOrNot']] = 1\n",
    "validation_file.loc[(validation_file['datetime'].between('2022-06-23 14:38:00' , '2022-06-23 14:42:18' , inclusive='both')),['HoverOrNot']] = 1\n",
    "validation_file.loc[(validation_file['datetime'].between('2022-06-23 14:44:00' , '2022-06-23 14:47:12' , inclusive='both')),['HoverOrNot']] = 1\n",
    "validation_file.loc[(validation_file['datetime'].between('2022-06-23 14:47:30' , '2022-06-23 14:50:59' , inclusive='both')),['HoverOrNot']] = 1\n",
    "validation_file.loc[(validation_file['datetime'].between('2022-06-23 14:52:00' , '2022-06-23 14:53:52' , inclusive='both')),['HoverOrNot']] = 1\n",
    "\n",
    "\n",
    "validation_file.loc[(validation_file['datetime'].between('2022-06-23 14:56:26' , '2022-06-23 14:58:34' , inclusive='both')),['HoverOrNot']] = 1\n",
    "\n",
    "validation_file.loc[(validation_file['datetime'].between('2022-06-23 14:59:37' , '2022-06-23 15:01:25' , inclusive='both')),['HoverOrNot']] = 1"
   ]
  },
  {
   "cell_type": "code",
   "execution_count": 29,
   "id": "468c8c65",
   "metadata": {},
   "outputs": [],
   "source": [
    "X_validation = validation_file[feature_names]\n",
    "y_validation = validation_file['HoverOrNot']\n",
    "\n",
    "\n",
    "X_valid = scaler.transform(X_validation)"
   ]
  },
  {
   "cell_type": "code",
   "execution_count": 30,
   "id": "a684f4e8",
   "metadata": {},
   "outputs": [
    {
     "name": "stdout",
     "output_type": "stream",
     "text": [
      "Accuracy of Model:: 0.7341292618528298\n"
     ]
    }
   ],
   "source": [
    "validation_svm = svm.predict(X_valid)\n",
    "print(\"Accuracy of Model::\",accuracy_score(y_validation,validation_svm))"
   ]
  },
  {
   "cell_type": "code",
   "execution_count": 31,
   "id": "03528d34",
   "metadata": {},
   "outputs": [
    {
     "name": "stdout",
     "output_type": "stream",
     "text": [
      "Accuracy of Model:: 0.7561703593158076\n"
     ]
    }
   ],
   "source": [
    "validation_xgb = xgb_classifier.predict(X_valid)\n",
    "print(\"Accuracy of Model::\",accuracy_score(y_validation,validation_xgb))"
   ]
  },
  {
   "cell_type": "code",
   "execution_count": 32,
   "id": "7a07cc27",
   "metadata": {},
   "outputs": [],
   "source": [
    "validation_file['HoverOrNot'] = validation_file['HoverOrNot'] * 10"
   ]
  },
  {
   "cell_type": "code",
   "execution_count": 33,
   "id": "1eea4945",
   "metadata": {},
   "outputs": [
    {
     "data": {
      "image/png": "[encoded data removed]",
      "text/plain": [
       "<Figure size 864x576 with 1 Axes>"
      ]
     },
     "metadata": {
      "needs_background": "light"
     },
     "output_type": "display_data"
    }
   ],
   "source": [
    "import matplotlib.dates as mdates\n",
    "\n",
    "validation_file['svm_predicted'] = validation_svm * 20\n",
    "# validation_file.loc[(validation_file['hasWeightOnWheels'] == 1),['svm_predicted']] = 0\n",
    "\n",
    "plt.figure(figsize=(12, 8))\n",
    "plt.plot('datetime','groundSpeed',\n",
    "         data = validation_file,\n",
    "         label = \"groundSpeed\")\n",
    "plt.plot('datetime','svm_predicted',\n",
    "         data = validation_file,\n",
    "         label = \"svm_predicted\")\n",
    "plt.plot('datetime','HoverOrNot',\n",
    "         data = validation_file,\n",
    "         label = \"HoverOrNot\")\n",
    "\n",
    "#Set format of the plot chart\n",
    "plt.gca().xaxis.set_major_locator(mdates.SecondLocator(interval=180))\n",
    "plt.gca().xaxis.set_major_formatter(mdates.DateFormatter('%H:%M:%S'))\n",
    "plt.xticks(rotation=90)\n",
    "# plt.gcf().autofmt_xdate()\n",
    "\n",
    "\n",
    "plt.xlabel('Time')\n",
    "plt.ylabel('Value') \n",
    "plt.title('SVM Model Prediction')\n",
    "plt.legend()\n",
    "plt.show()"
   ]
  },
  {
   "cell_type": "code",
   "execution_count": 34,
   "id": "e3b3ca18",
   "metadata": {},
   "outputs": [
    {
     "data": {
      "image/png": "[encoded data removed]",
      "text/plain": [
       "<Figure size 864x576 with 1 Axes>"
      ]
     },
     "metadata": {
      "needs_background": "light"
     },
     "output_type": "display_data"
    }
   ],
   "source": [
    "import matplotlib.dates as mdates\n",
    "\n",
    "validation_file['xgb_predicted'] = validation_xgb * 20\n",
    "\n",
    "plt.figure(figsize=(12, 8))\n",
    "# plt.plot('datetime','absoluteAltitude',\n",
    "#          data = validation_file,\n",
    "#          label = \"absoluteAltitude\")\n",
    "plt.plot('datetime','groundSpeed',\n",
    "         data = validation_file,\n",
    "         label = \"groundSpeed\")\n",
    "plt.plot('datetime','xgb_predicted',\n",
    "         data = validation_file,\n",
    "         label = \"xgb_predicted\")\n",
    "plt.plot('datetime','HoverOrNot',\n",
    "         data = validation_file,\n",
    "         label = \"HoverOrNot\")\n",
    "\n",
    "#Set format of the plot chart\n",
    "plt.gca().xaxis.set_major_locator(mdates.SecondLocator(interval=180))\n",
    "plt.gca().xaxis.set_major_formatter(mdates.DateFormatter('%H:%M:%S'))\n",
    "plt.xticks(rotation=90)\n",
    "# plt.gcf().autofmt_xdate()\n",
    "\n",
    "\n",
    "plt.xlabel('Time')\n",
    "plt.ylabel('Value') \n",
    "plt.title('XGBoost Model Prediction')\n",
    "plt.legend()\n",
    "plt.show()"
   ]
  },
  {
   "cell_type": "markdown",
   "id": "906f8d5a",
   "metadata": {},
   "source": [
    "<h1> Binary Classification Deep Learning method"
   ]
  },
  {
   "cell_type": "code",
   "execution_count": 35,
   "id": "d94112a4",
   "metadata": {},
   "outputs": [],
   "source": [
    "feature_names_dl = ['absoluteAltitude', \n",
    "'trueHeading', \n",
    "'groundSpeed', \n",
    "'trueAirspeed',\n",
    "'pitch', \n",
    "'roll',\n",
    "'yaw',\n",
    "'angleOfAttack',\n",
    "'flightPathAngle',\n",
    "'verticalFlightPathAngle',\n",
    "'horizontalFlightPathAngle',\n",
    "'rollAcceleration',\n",
    "'pitchAcceleration',\n",
    "'yawAcceleration',\n",
    "'mainRotorRpm',\n",
    "'tailRotorRpm',\n",
    "'mainRotorTorque',\n",
    "'e1Itt',\n",
    "'e2Itt',\n",
    "'mainRotorInducedInflow',\n",
    "'flightDirectorPitch',\n",
    "'flightDirectorRoll',\n",
    "'climbOrDescentRate', \n",
    "'hasWeightOnWheels', \n",
    "'turnRate to degPerSec', \n",
    "'cyclicPositionPitch', \n",
    "'cyclicPositionRoll', \n",
    "'collectivePosition', \n",
    "'antiTorquePedalPosition', \n",
    "'throttlePosition', \n",
    "'e1Torque', \n",
    "'e2Torque']               \n",
    "                \n",
    "                \n",
    "X_dl = df5[feature_names]\n",
    "y = df5['HoverOrNot']\n"
   ]
  },
  {
   "cell_type": "code",
   "execution_count": 36,
   "id": "c523af07",
   "metadata": {},
   "outputs": [],
   "source": [
    "from sklearn.preprocessing import StandardScaler\n",
    "sc = StandardScaler()\n",
    "x = sc.fit_transform(X_dl)"
   ]
  },
  {
   "cell_type": "code",
   "execution_count": 37,
   "id": "888cebff",
   "metadata": {},
   "outputs": [],
   "source": [
    "import torch\n",
    "from torch.utils.data import Dataset, DataLoader\n",
    "\n",
    "class dataset(Dataset):\n",
    "    def __init__(self,x,y):\n",
    "        self.x = torch.tensor(x,dtype=torch.float32)\n",
    "        self.y = torch.tensor(y,dtype=torch.float32)\n",
    "        self.length = self.x.shape[0]\n",
    "\n",
    "    def __getitem__(self,idx):\n",
    "        return self.x[idx],self.y[idx]\n",
    "    def __len__(self):\n",
    "        return self.length\n",
    "\n",
    "trainset = dataset(x,y)\n",
    "#DataLoader\n",
    "trainloader = DataLoader(trainset,batch_size=64,shuffle=True)"
   ]
  },
  {
   "cell_type": "code",
   "execution_count": 38,
   "id": "3f8d2062",
   "metadata": {},
   "outputs": [],
   "source": [
    "from torch import nn\n",
    "from torch.nn import functional as F\n",
    "\n",
    "class Net(nn.Module):\n",
    "    def __init__(self,input_shape):\n",
    "        super(Net,self).__init__()\n",
    "        self.fc1 = nn.Linear(input_shape,64)\n",
    "        self.fc2 = nn.Linear(64,32)\n",
    "        self.fc3 = nn.Linear(32,1)\n",
    "        \n",
    "        self.dropout = nn.Dropout(p=0.3)\n",
    "\n",
    "    def forward(self,x):\n",
    "        x = torch.relu(self.fc1(x))\n",
    "        x = torch.relu(self.dropout(x))\n",
    "        x = torch.relu(self.fc2(x))\n",
    "        x = torch.sigmoid(self.fc3(x))\n",
    "        return x"
   ]
  },
  {
   "cell_type": "code",
   "execution_count": 39,
   "id": "622c6406",
   "metadata": {},
   "outputs": [],
   "source": [
    "#hyper parameters\n",
    "learning_rate = 0.1\n",
    "epochs = 700\n",
    "# Model , Optimizer, Loss\n",
    "model = Net(input_shape=x.shape[1])\n",
    "optimizer = torch.optim.SGD(model.parameters(),lr=learning_rate)\n",
    "loss_fn = nn.BCELoss()"
   ]
  },
  {
   "cell_type": "code",
   "execution_count": 40,
   "id": "7508d6b3",
   "metadata": {},
   "outputs": [
    {
     "name": "stdout",
     "output_type": "stream",
     "text": [
      "Net(\n",
      "  (fc1): Linear(in_features=12, out_features=64, bias=True)\n",
      "  (fc2): Linear(in_features=64, out_features=32, bias=True)\n",
      "  (fc3): Linear(in_features=32, out_features=1, bias=True)\n",
      "  (dropout): Dropout(p=0.3, inplace=False)\n",
      ")\n"
     ]
    }
   ],
   "source": [
    "print(model)"
   ]
  },
  {
   "cell_type": "code",
   "execution_count": 41,
   "id": "f2ed5857",
   "metadata": {},
   "outputs": [
    {
     "name": "stdout",
     "output_type": "stream",
     "text": [
      "New Best Model epoch 0\tloss : 0.18027296662330627\t accuracy : 0.938545362392296\n",
      "epoch 0\tloss : 0.18027296662330627\t accuracy : 0.938545362392296\n",
      "New Best Model epoch 1\tloss : 0.14465580880641937\t accuracy : 0.940319310694374\n",
      "New Best Model epoch 2\tloss : 0.02747315727174282\t accuracy : 0.9437404967055246\n",
      "New Best Model epoch 3\tloss : 0.5189170837402344\t accuracy : 0.9453877344145971\n",
      "New Best Model epoch 5\tloss : 0.3121996819972992\t accuracy : 0.9496958945767866\n",
      "New Best Model epoch 9\tloss : 0.14967572689056396\t accuracy : 0.9522301064368981\n",
      "New Best Model epoch 15\tloss : 0.224763423204422\t accuracy : 0.9532437911809427\n",
      "New Best Model epoch 17\tloss : 0.048696525394916534\t accuracy : 0.9538773441459706\n",
      "New Best Model epoch 18\tloss : 0.17496620118618011\t accuracy : 0.9541307653319817\n",
      "New Best Model epoch 23\tloss : 0.032991766929626465\t accuracy : 0.9553978712620375\n",
      "New Best Model epoch 25\tloss : 0.1568344533443451\t accuracy : 0.9566649771920933\n",
      "New Best Model epoch 34\tloss : 0.1252308487892151\t accuracy : 0.9567916877850988\n",
      "New Best Model epoch 36\tloss : 0.04195600375533104\t accuracy : 0.9576786619361378\n",
      "New Best Model epoch 43\tloss : 0.1605488508939743\t accuracy : 0.9578053725291434\n",
      "New Best Model epoch 45\tloss : 0.07009707391262054\t accuracy : 0.9598327420172327\n",
      "epoch 50\tloss : 0.07545758783817291\t accuracy : 0.9586923466801824\n",
      "New Best Model epoch 59\tloss : 0.23370063304901123\t accuracy : 0.9612265585402939\n",
      "New Best Model epoch 62\tloss : 0.015412315726280212\t accuracy : 0.9614799797263052\n",
      "New Best Model epoch 67\tloss : 0.04759737849235535\t accuracy : 0.9618601115053218\n",
      "New Best Model epoch 86\tloss : 0.025864724069833755\t accuracy : 0.9626203750633553\n",
      "New Best Model epoch 89\tloss : 0.23615439236164093\t accuracy : 0.9631272174353775\n",
      "New Best Model epoch 99\tloss : 0.0977628231048584\t accuracy : 0.9645210339584389\n",
      "epoch 100\tloss : 0.14380863308906555\t accuracy : 0.9597060314242271\n",
      "New Best Model epoch 113\tloss : 0.059563763439655304\t accuracy : 0.9646477445514445\n",
      "New Best Model epoch 125\tloss : 0.23213794827461243\t accuracy : 0.9657881398884947\n",
      "New Best Model epoch 126\tloss : 0.07401420176029205\t accuracy : 0.9668018246325393\n",
      "New Best Model epoch 140\tloss : 0.13828422129154205\t accuracy : 0.9669285352255449\n",
      "epoch 150\tloss : 0.03821863979101181\t accuracy : 0.9665484034465281\n",
      "New Best Model epoch 153\tloss : 0.019781015813350677\t accuracy : 0.9676887987835783\n",
      "New Best Model epoch 167\tloss : 0.06842752546072006\t accuracy : 0.9679422199695895\n",
      "New Best Model epoch 187\tloss : 0.010667303577065468\t accuracy : 0.9684490623416118\n",
      "epoch 200\tloss : 0.020294586196541786\t accuracy : 0.9676887987835783\n",
      "New Best Model epoch 203\tloss : 0.06389828771352768\t accuracy : 0.9685757729346174\n",
      "New Best Model epoch 208\tloss : 0.09050990641117096\t accuracy : 0.9700963000506843\n",
      "New Best Model epoch 234\tloss : 0.01888064295053482\t accuracy : 0.9707298530157121\n",
      "epoch 250\tloss : 0.06766818463802338\t accuracy : 0.968068930562595\n",
      "New Best Model epoch 265\tloss : 0.04058060422539711\t accuracy : 0.9712366953877344\n",
      "New Best Model epoch 268\tloss : 0.02154669538140297\t accuracy : 0.97136340598074\n",
      "New Best Model epoch 280\tloss : 0.01776684634387493\t accuracy : 0.9714901165737455\n",
      "New Best Model epoch 281\tloss : 0.1596606820821762\t accuracy : 0.9717435377597567\n",
      "epoch 300\tloss : 0.018957333639264107\t accuracy : 0.9687024835276229\n",
      "New Best Model epoch 311\tloss : 0.20945103466510773\t accuracy : 0.9719969589457679\n",
      "New Best Model epoch 331\tloss : 0.09559709578752518\t accuracy : 0.9721236695387735\n",
      "New Best Model epoch 332\tloss : 0.04873325303196907\t accuracy : 0.9723770907247846\n",
      "New Best Model epoch 336\tloss : 0.034712281078100204\t accuracy : 0.9726305119107957\n",
      "epoch 350\tloss : 0.010259444825351238\t accuracy : 0.9697161682716675\n",
      "New Best Model epoch 384\tloss : 0.01619688794016838\t accuracy : 0.9730106436898125\n",
      "epoch 400\tloss : 0.09267164766788483\t accuracy : 0.9725038013177901\n",
      "New Best Model epoch 409\tloss : 0.008919887244701385\t accuracy : 0.9732640648758236\n",
      "New Best Model epoch 417\tloss : 0.08163037151098251\t accuracy : 0.9733907754688292\n",
      "New Best Model epoch 422\tloss : 0.09605236351490021\t accuracy : 0.9738976178408515\n",
      "New Best Model epoch 439\tloss : 0.02359498105943203\t accuracy : 0.9741510390268626\n",
      "epoch 450\tloss : 0.009387512691318989\t accuracy : 0.972250380131779\n",
      "New Best Model epoch 466\tloss : 0.01499662734568119\t accuracy : 0.974657881398885\n",
      "New Best Model epoch 470\tloss : 0.07460911571979523\t accuracy : 0.9750380131779016\n",
      "New Best Model epoch 489\tloss : 0.06053229421377182\t accuracy : 0.976431829700963\n",
      "epoch 500\tloss : 0.027363363653421402\t accuracy : 0.9735174860618347\n",
      "epoch 550\tloss : 0.025032633915543556\t accuracy : 0.9740243284338571\n",
      "epoch 600\tloss : 0.01634974591434002\t accuracy : 0.9721236695387735\n"
     ]
    },
    {
     "ename": "KeyboardInterrupt",
     "evalue": "",
     "output_type": "error",
     "traceback": [
      "\u001b[1;31m---------------------------------------------------------------------------\u001b[0m",
      "\u001b[1;31mKeyboardInterrupt\u001b[0m                         Traceback (most recent call last)",
      "Input \u001b[1;32mIn [41]\u001b[0m, in \u001b[0;36m<cell line: 6>\u001b[1;34m()\u001b[0m\n\u001b[0;32m     13\u001b[0m loss \u001b[38;5;241m=\u001b[39m loss_fn(output,y_train\u001b[38;5;241m.\u001b[39mreshape(\u001b[38;5;241m-\u001b[39m\u001b[38;5;241m1\u001b[39m,\u001b[38;5;241m1\u001b[39m))\n\u001b[0;32m     15\u001b[0m \u001b[38;5;66;03m#accuracy\u001b[39;00m\n\u001b[1;32m---> 16\u001b[0m predicted \u001b[38;5;241m=\u001b[39m \u001b[43mmodel\u001b[49m\u001b[43m(\u001b[49m\u001b[43mtorch\u001b[49m\u001b[38;5;241;43m.\u001b[39;49m\u001b[43mtensor\u001b[49m\u001b[43m(\u001b[49m\u001b[43mx\u001b[49m\u001b[43m,\u001b[49m\u001b[43mdtype\u001b[49m\u001b[38;5;241;43m=\u001b[39;49m\u001b[43mtorch\u001b[49m\u001b[38;5;241;43m.\u001b[39;49m\u001b[43mfloat32\u001b[49m\u001b[43m)\u001b[49m\u001b[43m)\u001b[49m\n\u001b[0;32m     17\u001b[0m acc \u001b[38;5;241m=\u001b[39m (predicted\u001b[38;5;241m.\u001b[39mreshape(\u001b[38;5;241m-\u001b[39m\u001b[38;5;241m1\u001b[39m)\u001b[38;5;241m.\u001b[39mdetach()\u001b[38;5;241m.\u001b[39mnumpy()\u001b[38;5;241m.\u001b[39mround() \u001b[38;5;241m==\u001b[39m y)\u001b[38;5;241m.\u001b[39mmean()\n\u001b[0;32m     19\u001b[0m \u001b[38;5;66;03m#backprop\u001b[39;00m\n",
      "File \u001b[1;32m~\\AppData\\Local\\Programs\\Python\\Python39\\lib\\site-packages\\torch\\nn\\modules\\module.py:1110\u001b[0m, in \u001b[0;36mModule._call_impl\u001b[1;34m(self, *input, **kwargs)\u001b[0m\n\u001b[0;32m   1106\u001b[0m \u001b[38;5;66;03m# If we don't have any hooks, we want to skip the rest of the logic in\u001b[39;00m\n\u001b[0;32m   1107\u001b[0m \u001b[38;5;66;03m# this function, and just call forward.\u001b[39;00m\n\u001b[0;32m   1108\u001b[0m \u001b[38;5;28;01mif\u001b[39;00m \u001b[38;5;129;01mnot\u001b[39;00m (\u001b[38;5;28mself\u001b[39m\u001b[38;5;241m.\u001b[39m_backward_hooks \u001b[38;5;129;01mor\u001b[39;00m \u001b[38;5;28mself\u001b[39m\u001b[38;5;241m.\u001b[39m_forward_hooks \u001b[38;5;129;01mor\u001b[39;00m \u001b[38;5;28mself\u001b[39m\u001b[38;5;241m.\u001b[39m_forward_pre_hooks \u001b[38;5;129;01mor\u001b[39;00m _global_backward_hooks\n\u001b[0;32m   1109\u001b[0m         \u001b[38;5;129;01mor\u001b[39;00m _global_forward_hooks \u001b[38;5;129;01mor\u001b[39;00m _global_forward_pre_hooks):\n\u001b[1;32m-> 1110\u001b[0m     \u001b[38;5;28;01mreturn\u001b[39;00m forward_call(\u001b[38;5;241m*\u001b[39m\u001b[38;5;28minput\u001b[39m, \u001b[38;5;241m*\u001b[39m\u001b[38;5;241m*\u001b[39mkwargs)\n\u001b[0;32m   1111\u001b[0m \u001b[38;5;66;03m# Do not call functions when jit is used\u001b[39;00m\n\u001b[0;32m   1112\u001b[0m full_backward_hooks, non_full_backward_hooks \u001b[38;5;241m=\u001b[39m [], []\n",
      "Input \u001b[1;32mIn [38]\u001b[0m, in \u001b[0;36mNet.forward\u001b[1;34m(self, x)\u001b[0m\n\u001b[0;32m     13\u001b[0m \u001b[38;5;28;01mdef\u001b[39;00m \u001b[38;5;21mforward\u001b[39m(\u001b[38;5;28mself\u001b[39m,x):\n\u001b[0;32m     14\u001b[0m     x \u001b[38;5;241m=\u001b[39m torch\u001b[38;5;241m.\u001b[39mrelu(\u001b[38;5;28mself\u001b[39m\u001b[38;5;241m.\u001b[39mfc1(x))\n\u001b[1;32m---> 15\u001b[0m     x \u001b[38;5;241m=\u001b[39m torch\u001b[38;5;241m.\u001b[39mrelu(\u001b[38;5;28;43mself\u001b[39;49m\u001b[38;5;241;43m.\u001b[39;49m\u001b[43mdropout\u001b[49m\u001b[43m(\u001b[49m\u001b[43mx\u001b[49m\u001b[43m)\u001b[49m)\n\u001b[0;32m     16\u001b[0m     x \u001b[38;5;241m=\u001b[39m torch\u001b[38;5;241m.\u001b[39mrelu(\u001b[38;5;28mself\u001b[39m\u001b[38;5;241m.\u001b[39mfc2(x))\n\u001b[0;32m     17\u001b[0m     x \u001b[38;5;241m=\u001b[39m torch\u001b[38;5;241m.\u001b[39msigmoid(\u001b[38;5;28mself\u001b[39m\u001b[38;5;241m.\u001b[39mfc3(x))\n",
      "File \u001b[1;32m~\\AppData\\Local\\Programs\\Python\\Python39\\lib\\site-packages\\torch\\nn\\modules\\module.py:1110\u001b[0m, in \u001b[0;36mModule._call_impl\u001b[1;34m(self, *input, **kwargs)\u001b[0m\n\u001b[0;32m   1106\u001b[0m \u001b[38;5;66;03m# If we don't have any hooks, we want to skip the rest of the logic in\u001b[39;00m\n\u001b[0;32m   1107\u001b[0m \u001b[38;5;66;03m# this function, and just call forward.\u001b[39;00m\n\u001b[0;32m   1108\u001b[0m \u001b[38;5;28;01mif\u001b[39;00m \u001b[38;5;129;01mnot\u001b[39;00m (\u001b[38;5;28mself\u001b[39m\u001b[38;5;241m.\u001b[39m_backward_hooks \u001b[38;5;129;01mor\u001b[39;00m \u001b[38;5;28mself\u001b[39m\u001b[38;5;241m.\u001b[39m_forward_hooks \u001b[38;5;129;01mor\u001b[39;00m \u001b[38;5;28mself\u001b[39m\u001b[38;5;241m.\u001b[39m_forward_pre_hooks \u001b[38;5;129;01mor\u001b[39;00m _global_backward_hooks\n\u001b[0;32m   1109\u001b[0m         \u001b[38;5;129;01mor\u001b[39;00m _global_forward_hooks \u001b[38;5;129;01mor\u001b[39;00m _global_forward_pre_hooks):\n\u001b[1;32m-> 1110\u001b[0m     \u001b[38;5;28;01mreturn\u001b[39;00m forward_call(\u001b[38;5;241m*\u001b[39m\u001b[38;5;28minput\u001b[39m, \u001b[38;5;241m*\u001b[39m\u001b[38;5;241m*\u001b[39mkwargs)\n\u001b[0;32m   1111\u001b[0m \u001b[38;5;66;03m# Do not call functions when jit is used\u001b[39;00m\n\u001b[0;32m   1112\u001b[0m full_backward_hooks, non_full_backward_hooks \u001b[38;5;241m=\u001b[39m [], []\n",
      "File \u001b[1;32m~\\AppData\\Local\\Programs\\Python\\Python39\\lib\\site-packages\\torch\\nn\\modules\\dropout.py:58\u001b[0m, in \u001b[0;36mDropout.forward\u001b[1;34m(self, input)\u001b[0m\n\u001b[0;32m     57\u001b[0m \u001b[38;5;28;01mdef\u001b[39;00m \u001b[38;5;21mforward\u001b[39m(\u001b[38;5;28mself\u001b[39m, \u001b[38;5;28minput\u001b[39m: Tensor) \u001b[38;5;241m-\u001b[39m\u001b[38;5;241m>\u001b[39m Tensor:\n\u001b[1;32m---> 58\u001b[0m     \u001b[38;5;28;01mreturn\u001b[39;00m \u001b[43mF\u001b[49m\u001b[38;5;241;43m.\u001b[39;49m\u001b[43mdropout\u001b[49m\u001b[43m(\u001b[49m\u001b[38;5;28;43minput\u001b[39;49m\u001b[43m,\u001b[49m\u001b[43m \u001b[49m\u001b[38;5;28;43mself\u001b[39;49m\u001b[38;5;241;43m.\u001b[39;49m\u001b[43mp\u001b[49m\u001b[43m,\u001b[49m\u001b[43m \u001b[49m\u001b[38;5;28;43mself\u001b[39;49m\u001b[38;5;241;43m.\u001b[39;49m\u001b[43mtraining\u001b[49m\u001b[43m,\u001b[49m\u001b[43m \u001b[49m\u001b[38;5;28;43mself\u001b[39;49m\u001b[38;5;241;43m.\u001b[39;49m\u001b[43minplace\u001b[49m\u001b[43m)\u001b[49m\n",
      "File \u001b[1;32m~\\AppData\\Local\\Programs\\Python\\Python39\\lib\\site-packages\\torch\\nn\\functional.py:1279\u001b[0m, in \u001b[0;36mdropout\u001b[1;34m(input, p, training, inplace)\u001b[0m\n\u001b[0;32m   1277\u001b[0m \u001b[38;5;28;01mif\u001b[39;00m p \u001b[38;5;241m<\u001b[39m \u001b[38;5;241m0.0\u001b[39m \u001b[38;5;129;01mor\u001b[39;00m p \u001b[38;5;241m>\u001b[39m \u001b[38;5;241m1.0\u001b[39m:\n\u001b[0;32m   1278\u001b[0m     \u001b[38;5;28;01mraise\u001b[39;00m \u001b[38;5;167;01mValueError\u001b[39;00m(\u001b[38;5;124m\"\u001b[39m\u001b[38;5;124mdropout probability has to be between 0 and 1, \u001b[39m\u001b[38;5;124m\"\u001b[39m \u001b[38;5;124m\"\u001b[39m\u001b[38;5;124mbut got \u001b[39m\u001b[38;5;132;01m{}\u001b[39;00m\u001b[38;5;124m\"\u001b[39m\u001b[38;5;241m.\u001b[39mformat(p))\n\u001b[1;32m-> 1279\u001b[0m \u001b[38;5;28;01mreturn\u001b[39;00m _VF\u001b[38;5;241m.\u001b[39mdropout_(\u001b[38;5;28minput\u001b[39m, p, training) \u001b[38;5;28;01mif\u001b[39;00m inplace \u001b[38;5;28;01melse\u001b[39;00m \u001b[43m_VF\u001b[49m\u001b[38;5;241;43m.\u001b[39;49m\u001b[43mdropout\u001b[49m\u001b[43m(\u001b[49m\u001b[38;5;28;43minput\u001b[39;49m\u001b[43m,\u001b[49m\u001b[43m \u001b[49m\u001b[43mp\u001b[49m\u001b[43m,\u001b[49m\u001b[43m \u001b[49m\u001b[43mtraining\u001b[49m\u001b[43m)\u001b[49m\n",
      "\u001b[1;31mKeyboardInterrupt\u001b[0m: "
     ]
    }
   ],
   "source": [
    "loss_log = []\n",
    "accur = []\n",
    "best_model_wts = model.state_dict()\n",
    "best_acc = 0.0\n",
    "\n",
    "for i in range(epochs):\n",
    "    for j,(x_train,y_train) in enumerate(trainloader):\n",
    "\n",
    "        #calculate output\n",
    "        output = model(x_train)\n",
    "\n",
    "        #calculate loss\n",
    "        loss = loss_fn(output,y_train.reshape(-1,1))\n",
    "\n",
    "        #accuracy\n",
    "        predicted = model(torch.tensor(x,dtype=torch.float32))\n",
    "        acc = (predicted.reshape(-1).detach().numpy().round() == y).mean()\n",
    "\n",
    "        #backprop\n",
    "        optimizer.zero_grad()\n",
    "        loss.backward()\n",
    "        optimizer.step()\n",
    "\n",
    "    if acc > best_acc:\n",
    "        print('New Best Model epoch {}\\tloss : {}\\t accuracy : {}'.format(i,loss,acc))\n",
    "        best_acc = acc\n",
    "        best_model_wts = model.state_dict()\n",
    "    \n",
    "    loss_log.append(loss.item())\n",
    "    accur.append(acc)\n",
    "    \n",
    "    if i%50 == 0:   \n",
    "        print(\"epoch {}\\tloss : {}\\t accuracy : {}\".format(i,loss,acc))\n",
    "\n",
    "model.load_state_dict(best_model_wts)"
   ]
  },
  {
   "cell_type": "code",
   "execution_count": null,
   "id": "17cb20c7",
   "metadata": {},
   "outputs": [],
   "source": [
    "plt.plot(accur)\n",
    "plt.title('Accuracy vs Epochs')\n",
    "plt.xlabel('Accuracy')\n",
    "plt.ylabel('loss')"
   ]
  },
  {
   "cell_type": "code",
   "execution_count": null,
   "id": "120d31e6",
   "metadata": {},
   "outputs": [],
   "source": [
    "plt.plot(loss_log)\n",
    "plt.title('Accuracy vs Epochs')\n",
    "plt.xlabel('Accuracy')\n",
    "plt.ylabel('loss')"
   ]
  },
  {
   "cell_type": "code",
   "execution_count": null,
   "id": "e517de6e",
   "metadata": {},
   "outputs": [],
   "source": [
    "X_validation_dl = validation_file[feature_names]\n",
    "y_validation_dl = validation_file['HoverOrNot']\n",
    "\n",
    "\n",
    "X_valid_dl = sc.transform(X_validation_dl)\n",
    "\n",
    "validation_set_dl = torch.tensor(X_valid_dl,dtype=torch.float32)\n",
    "\n",
    "predict_output = model(validation_set_dl)"
   ]
  },
  {
   "cell_type": "code",
   "execution_count": null,
   "id": "9f3b4593",
   "metadata": {},
   "outputs": [],
   "source": [
    "predicted = model(torch.tensor(validation_set_dl,dtype=torch.float32))\n",
    "predicted_result = predicted.reshape(-1).detach().numpy().round()"
   ]
  },
  {
   "cell_type": "code",
   "execution_count": null,
   "id": "73e1b566",
   "metadata": {},
   "outputs": [],
   "source": [
    "print(\"Accuracy of Model::\",accuracy_score(y_validation_dl,predicted_result))"
   ]
  },
  {
   "cell_type": "code",
   "execution_count": null,
   "id": "67db0db0",
   "metadata": {
    "scrolled": false
   },
   "outputs": [],
   "source": [
    "import matplotlib.dates as mdates\n",
    "\n",
    "validation_file['dl_predicted'] = predicted_result * 20\n",
    "# validation_file.loc[(validation_file['hasWeightOnWheels'] == 1),['svm_predicted']] = 0\n",
    "\n",
    "plt.figure(figsize=(12, 8))\n",
    "plt.plot('datetime','groundSpeed',\n",
    "         data = validation_file,\n",
    "         label = \"groundSpeed\")\n",
    "plt.plot('datetime','dl_predicted',\n",
    "         data = validation_file,\n",
    "         label = \"dl_predicted\")\n",
    "plt.plot('datetime','HoverOrNot',\n",
    "         data = validation_file,\n",
    "         label = \"HoverOrNot\")\n",
    "\n",
    "#Set format of the plot chart\n",
    "plt.gca().xaxis.set_major_locator(mdates.SecondLocator(interval=180))\n",
    "plt.gca().xaxis.set_major_formatter(mdates.DateFormatter('%H:%M:%S'))\n",
    "plt.xticks(rotation=90)\n",
    "# plt.gcf().autofmt_xdate()\n",
    "\n",
    "\n",
    "plt.xlabel('Time')\n",
    "plt.ylabel('Value') \n",
    "plt.title('Binary Classification Deep Learning Model Prediction')\n",
    "plt.legend()\n",
    "plt.show()"
   ]
  },
  {
   "cell_type": "code",
   "execution_count": null,
   "id": "91fe80e2",
   "metadata": {},
   "outputs": [],
   "source": [
    "X_dl"
   ]
  },
  {
   "cell_type": "code",
   "execution_count": null,
   "id": "4699f3b1",
   "metadata": {},
   "outputs": [],
   "source": []
  }
 ],
 "metadata": {
  "kernelspec": {
   "display_name": "Python 3 (ipykernel)",
   "language": "python",
   "name": "python3"
  },
  "language_info": {
   "codemirror_mode": {
    "name": "ipython",
    "version": 3
   },
   "file_extension": ".py",
   "mimetype": "text/x-python",
   "name": "python",
   "nbconvert_exporter": "python",
   "pygments_lexer": "ipython3",
   "version": "3.9.10"
  }
 },
 "nbformat": 4,
 "nbformat_minor": 5
}
